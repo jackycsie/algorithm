{
 "cells": [
  {
   "cell_type": "code",
   "execution_count": 18,
   "metadata": {
    "ExecuteTime": {
     "end_time": "2019-01-07T08:57:49.983237Z",
     "start_time": "2019-01-07T08:57:49.976393Z"
    }
   },
   "outputs": [],
   "source": [
    "from drawtree import draw_bst"
   ]
  },
  {
   "cell_type": "code",
   "execution_count": 42,
   "metadata": {
    "ExecuteTime": {
     "end_time": "2019-01-07T09:07:52.615959Z",
     "start_time": "2019-01-07T09:07:52.611121Z"
    }
   },
   "outputs": [],
   "source": [
    "tree_node = []"
   ]
  },
  {
   "cell_type": "code",
   "execution_count": 44,
   "metadata": {
    "ExecuteTime": {
     "end_time": "2019-01-07T09:09:06.579872Z",
     "start_time": "2019-01-07T09:09:06.562052Z"
    }
   },
   "outputs": [],
   "source": [
    "class Node:\n",
    "    def __init__(self, data):\n",
    "        self.left = None\n",
    "        self.right = None\n",
    "        self.data = data\n",
    "# Insert Node\n",
    "    def insert(self, data):\n",
    "        if self.data:\n",
    "            if data < self.data:\n",
    "                if self.left is None:\n",
    "                    self.left = Node(data)\n",
    "                else:\n",
    "                    self.left.insert(data)\n",
    "            elif data > self.data:\n",
    "                if self.right is None:\n",
    "                    self.right = Node(data)\n",
    "                else:\n",
    "                    self.right.insert(data)\n",
    "        else:\n",
    "            self.data = data\n",
    "            \n",
    "    # Inorder traversal\n",
    "    # Left -> Root -> Right\n",
    "    def inorderTraversal(self, root):\n",
    "        res = []\n",
    "        if root:\n",
    "            res = self.inorderTraversal(root.left)\n",
    "            res.append(root.data)\n",
    "            res = res + self.inorderTraversal(root.right)\n",
    "        return res\n",
    "    \n",
    "    # Preorder traversal\n",
    "    # Root -> Left ->Right\n",
    "    def PreorderTraversal(self, root):\n",
    "        res = []\n",
    "        if root:\n",
    "            res.append(root.data)\n",
    "            res = res + self.PreorderTraversal(root.left)\n",
    "            res = res + self.PreorderTraversal(root.right)\n",
    "        return res\n",
    "    \n",
    "    # Postorder traversal\n",
    "    # Left ->Right -> Root\n",
    "    def PostorderTraversal(self, root):\n",
    "        res = []\n",
    "        if root:\n",
    "            res = self.PostorderTraversal(root.left)\n",
    "            res = res + self.PostorderTraversal(root.right)\n",
    "            res.append(root.data)\n",
    "        return res\n",
    "    \n",
    "    # Print the tree\n",
    "    def PrintTree(self):\n",
    "        if self.left:\n",
    "            self.left.PrintTree()\n",
    "        print( self.data),\n",
    "        if self.right:\n",
    "            self.right.PrintTree()"
   ]
  },
  {
   "cell_type": "code",
   "execution_count": 58,
   "metadata": {
    "ExecuteTime": {
     "end_time": "2019-01-07T09:19:20.744125Z",
     "start_time": "2019-01-07T09:19:16.896302Z"
    }
   },
   "outputs": [
    {
     "name": "stdout",
     "output_type": "stream",
     "text": [
      "\n",
      "Please enter the name of a city you have visited:\n",
      "(Enter 'quit' when you are finished.) quit\n"
     ]
    }
   ],
   "source": [
    "prompt = \"\\nPlease enter the name of a city you have visited:\"\n",
    "prompt += \"\\n(Enter 'quit' when you are finished.) \"\n",
    "while True:\n",
    "    city = input(prompt)\n",
    "    if city == 'quit':\n",
    "        break\n",
    "    else:\n",
    "        print(\"I'd love to go to \" + city.title() + \"!\")"
   ]
  },
  {
   "cell_type": "code",
   "execution_count": 65,
   "metadata": {
    "ExecuteTime": {
     "end_time": "2019-01-07T09:21:56.033231Z",
     "start_time": "2019-01-07T09:21:42.552078Z"
    }
   },
   "outputs": [
    {
     "name": "stdout",
     "output_type": "stream",
     "text": [
      "if you want quit, input quit => 53\n",
      "if you want quit, input quit => 12\n",
      "if you want quit, input quit => 54\n",
      "if you want quit, input quit => 231\n",
      "if you want quit, input quit => 645\n",
      "if you want quit, input quit => 123\n",
      "if you want quit, input quit => 52\n",
      "if you want quit, input quit => 56\n",
      "if you want quit, input quit => 3245\n",
      "if you want quit, input quit => quit\n"
     ]
    }
   ],
   "source": [
    "count = 1\n",
    "tree_number = []\n",
    "while True:\n",
    "    number = input(\"if you want quit, input quit => \")\n",
    "    if count == 1:\n",
    "        root = Node(number)\n",
    "        tree_number.append(number)\n",
    "        count += 1\n",
    "    elif number == 'quit':\n",
    "        break\n",
    "    else:\n",
    "        root.insert(number)\n",
    "        tree_number.append(number)"
   ]
  },
  {
   "cell_type": "code",
   "execution_count": 68,
   "metadata": {
    "ExecuteTime": {
     "end_time": "2019-01-07T09:22:16.856590Z",
     "start_time": "2019-01-07T09:22:16.849162Z"
    }
   },
   "outputs": [
    {
     "name": "stdout",
     "output_type": "stream",
     "text": [
      "L, V, R => ['12', '123', '231', '3245', '52', '53', '54', '56', '645']\n",
      "V, L, R => ['53', '12', '231', '123', '52', '3245', '54', '645', '56']\n",
      "L, R, V => ['123', '3245', '52', '231', '12', '56', '645', '54', '53']\n"
     ]
    }
   ],
   "source": [
    "print(\"L, V, R =>\", root.inorderTraversal(root))\n",
    "print(\"V, L, R =>\", root.PreorderTraversal(root))\n",
    "print(\"L, R, V =>\", root.PostorderTraversal(root))"
   ]
  },
  {
   "cell_type": "code",
   "execution_count": 67,
   "metadata": {
    "ExecuteTime": {
     "end_time": "2019-01-07T09:22:05.728645Z",
     "start_time": "2019-01-07T09:22:05.721468Z"
    }
   },
   "outputs": [
    {
     "name": "stdout",
     "output_type": "stream",
     "text": [
      "  53\n",
      "  / \\\n",
      " /   \\\n",
      "12   54\n",
      " \\     \\\n",
      " 52    231\n",
      "       / \\\n",
      "      /   \\\n",
      "    123   645\n",
      "    /       \\\n",
      "   56      3245\n"
     ]
    }
   ],
   "source": [
    "draw_bst(tree_number)"
   ]
  },
  {
   "cell_type": "code",
   "execution_count": null,
   "metadata": {},
   "outputs": [],
   "source": []
  }
 ],
 "metadata": {
  "kernelspec": {
   "display_name": "Python 3",
   "language": "python",
   "name": "python3"
  },
  "language_info": {
   "codemirror_mode": {
    "name": "ipython",
    "version": 3
   },
   "file_extension": ".py",
   "mimetype": "text/x-python",
   "name": "python",
   "nbconvert_exporter": "python",
   "pygments_lexer": "ipython3",
   "version": "3.5.2"
  }
 },
 "nbformat": 4,
 "nbformat_minor": 2
}

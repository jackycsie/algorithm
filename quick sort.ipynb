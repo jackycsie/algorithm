{
 "cells": [
  {
   "cell_type": "code",
   "execution_count": 1,
   "metadata": {
    "ExecuteTime": {
     "end_time": "2019-01-03T09:05:49.811875Z",
     "start_time": "2019-01-03T09:05:49.798169Z"
    }
   },
   "outputs": [],
   "source": [
    "def quick_sort(list):\n",
    "    print(\"your number\", list)\n",
    "    small = []\n",
    "    big = []\n",
    "    key_number = []\n",
    "\n",
    "    if len(list) <= 1:\n",
    "        return list\n",
    "\n",
    "    else:\n",
    "        key = list[0]  #我們選第一個數為key值\n",
    "        for i in list:\n",
    "            if i < key: #比key值小的數歸一類\n",
    "                small.append(i)\n",
    "            elif i > key: #比key值大的數歸一類\n",
    "                big.append(i)\n",
    "            else:\n",
    "                key_number.append(i)\n",
    "        \n",
    "        print(\"small:\", small)\n",
    "        print(\"big:\", big)\n",
    "        print(\"key_number:\", key_number)\n",
    "\n",
    "    small = quick_sort(small)\n",
    "    big = quick_sort(big)\n",
    "    return small + key_number + big"
   ]
  },
  {
   "cell_type": "code",
   "execution_count": 2,
   "metadata": {
    "ExecuteTime": {
     "end_time": "2019-01-03T09:06:11.322091Z",
     "start_time": "2019-01-03T09:05:59.652002Z"
    }
   },
   "outputs": [
    {
     "name": "stdout",
     "output_type": "stream",
     "text": [
      "3,5,1,6,7,8,5,8,34,234\n"
     ]
    }
   ],
   "source": [
    "your_nuber = input()\n",
    "split_number = your_nuber.split(\",\")\n",
    "split_number = [int(i) for i in split_number]"
   ]
  },
  {
   "cell_type": "code",
   "execution_count": 3,
   "metadata": {
    "ExecuteTime": {
     "end_time": "2019-01-03T09:06:11.767711Z",
     "start_time": "2019-01-03T09:06:11.747005Z"
    }
   },
   "outputs": [
    {
     "name": "stdout",
     "output_type": "stream",
     "text": [
      "your number [3, 5, 1, 6, 7, 8, 5, 8, 34, 234]\n",
      "small: [1]\n",
      "big: [5, 6, 7, 8, 5, 8, 34, 234]\n",
      "key_number: [3]\n",
      "your number [1]\n",
      "your number [5, 6, 7, 8, 5, 8, 34, 234]\n",
      "small: []\n",
      "big: [6, 7, 8, 8, 34, 234]\n",
      "key_number: [5, 5]\n",
      "your number []\n",
      "your number [6, 7, 8, 8, 34, 234]\n",
      "small: []\n",
      "big: [7, 8, 8, 34, 234]\n",
      "key_number: [6]\n",
      "your number []\n",
      "your number [7, 8, 8, 34, 234]\n",
      "small: []\n",
      "big: [8, 8, 34, 234]\n",
      "key_number: [7]\n",
      "your number []\n",
      "your number [8, 8, 34, 234]\n",
      "small: []\n",
      "big: [34, 234]\n",
      "key_number: [8, 8]\n",
      "your number []\n",
      "your number [34, 234]\n",
      "small: []\n",
      "big: [234]\n",
      "key_number: [34]\n",
      "your number []\n",
      "your number [234]\n"
     ]
    },
    {
     "data": {
      "text/plain": [
       "[1, 3, 5, 5, 6, 7, 8, 8, 34, 234]"
      ]
     },
     "execution_count": 3,
     "metadata": {},
     "output_type": "execute_result"
    }
   ],
   "source": [
    "quick_sort(split_number)"
   ]
  },
  {
   "cell_type": "code",
   "execution_count": null,
   "metadata": {},
   "outputs": [],
   "source": []
  }
 ],
 "metadata": {
  "kernelspec": {
   "display_name": "Python 3",
   "language": "python",
   "name": "python3"
  },
  "language_info": {
   "codemirror_mode": {
    "name": "ipython",
    "version": 3
   },
   "file_extension": ".py",
   "mimetype": "text/x-python",
   "name": "python",
   "nbconvert_exporter": "python",
   "pygments_lexer": "ipython3",
   "version": "3.5.2"
  }
 },
 "nbformat": 4,
 "nbformat_minor": 2
}

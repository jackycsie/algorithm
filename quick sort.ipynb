{
 "cells": [
  {
   "cell_type": "code",
   "execution_count": 14,
   "metadata": {
    "ExecuteTime": {
     "end_time": "2019-01-03T08:57:05.770576Z",
     "start_time": "2019-01-03T08:57:05.758666Z"
    }
   },
   "outputs": [],
   "source": [
    "def quick_sort(list):\n",
    "    print(\"your number\", list)\n",
    "    small = []\n",
    "    big = []\n",
    "    key_number = []\n",
    "\n",
    "    if len(list) <= 1:\n",
    "        return list\n",
    "\n",
    "    else:\n",
    "        key = list[0]  #我們選第一個數為key值\n",
    "        for i in list:\n",
    "            if i < key: #比key值小的數歸一類\n",
    "                small.append(i)\n",
    "            elif i > key: #比key值大的數歸一類\n",
    "                big.append(i)\n",
    "            else:\n",
    "                key_number.append(i)\n",
    "        \n",
    "        print(\"small:\", small)\n",
    "        print(\"big:\", big)\n",
    "        print(\"key_number:\", key_number)\n",
    "\n",
    "    small = quick_sort(small)\n",
    "    big = quick_sort(big)\n",
    "    return small + key_number + big"
   ]
  },
  {
   "cell_type": "code",
   "execution_count": 24,
   "metadata": {
    "ExecuteTime": {
     "end_time": "2019-01-03T09:01:01.107583Z",
     "start_time": "2019-01-03T09:00:51.951129Z"
    }
   },
   "outputs": [
    {
     "name": "stdout",
     "output_type": "stream",
     "text": [
      "9,5,31,3,2,3,5,6\n"
     ]
    }
   ],
   "source": [
    "your_nuber = input()\n",
    "split_number = your_nuber.split(\",\")\n",
    "split_number = [int(i) for i in split_number]"
   ]
  },
  {
   "cell_type": "code",
   "execution_count": 25,
   "metadata": {
    "ExecuteTime": {
     "end_time": "2019-01-03T09:01:01.573826Z",
     "start_time": "2019-01-03T09:01:01.566554Z"
    }
   },
   "outputs": [
    {
     "name": "stdout",
     "output_type": "stream",
     "text": [
      "your number [9, 5, 31, 3, 2, 3, 5, 6]\n",
      "small: [5, 3, 2, 3, 5, 6]\n",
      "big: [31]\n",
      "key_number: [9]\n",
      "your number [5, 3, 2, 3, 5, 6]\n",
      "small: [3, 2, 3]\n",
      "big: [6]\n",
      "key_number: [5, 5]\n",
      "your number [3, 2, 3]\n",
      "small: [2]\n",
      "big: []\n",
      "key_number: [3, 3]\n",
      "your number [2]\n",
      "your number []\n",
      "your number [6]\n",
      "your number [31]\n"
     ]
    },
    {
     "data": {
      "text/plain": [
       "[2, 3, 3, 5, 5, 6, 9, 31]"
      ]
     },
     "execution_count": 25,
     "metadata": {},
     "output_type": "execute_result"
    }
   ],
   "source": [
    "quick_sort(split_number)"
   ]
  },
  {
   "cell_type": "code",
   "execution_count": null,
   "metadata": {},
   "outputs": [],
   "source": []
  }
 ],
 "metadata": {
  "kernelspec": {
   "display_name": "Python 3",
   "language": "python",
   "name": "python3"
  },
  "language_info": {
   "codemirror_mode": {
    "name": "ipython",
    "version": 3
   },
   "file_extension": ".py",
   "mimetype": "text/x-python",
   "name": "python",
   "nbconvert_exporter": "python",
   "pygments_lexer": "ipython3",
   "version": "3.5.2"
  }
 },
 "nbformat": 4,
 "nbformat_minor": 2
}

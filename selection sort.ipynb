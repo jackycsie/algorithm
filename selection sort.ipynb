{
 "cells": [
  {
   "cell_type": "markdown",
   "metadata": {},
   "source": [
    "# Best O(n^2), Worst O(n^2)"
   ]
  },
  {
   "cell_type": "code",
   "execution_count": 17,
   "metadata": {
    "ExecuteTime": {
     "end_time": "2018-12-23T13:32:50.333028Z",
     "start_time": "2018-12-23T13:32:44.391207Z"
    }
   },
   "outputs": [
    {
     "name": "stdout",
     "output_type": "stream",
     "text": [
      "輸入一串數字用\",\"隔開 5,4,3,1,2\n"
     ]
    },
    {
     "data": {
      "text/plain": [
       "['5', '4', '3', '1', '2']"
      ]
     },
     "execution_count": 17,
     "metadata": {},
     "output_type": "execute_result"
    }
   ],
   "source": [
    "your_number = input(\"輸入一串數字用\\\",\\\"隔開 \")\n",
    "your_number = your_number.split(\",\")\n",
    "your_number"
   ]
  },
  {
   "cell_type": "code",
   "execution_count": 21,
   "metadata": {
    "ExecuteTime": {
     "end_time": "2018-12-23T13:38:19.470431Z",
     "start_time": "2018-12-23T13:38:19.451822Z"
    }
   },
   "outputs": [
    {
     "name": "stdout",
     "output_type": "stream",
     "text": [
      "Step 1 :  ['1', '2', '3', '4', '5']\n",
      "Step 2 :  ['1', '2', '3', '4', '5']\n",
      "Step 3 :  ['1', '2', '3', '4', '5']\n",
      "Step 4 :  ['1', '2', '3', '4', '5']\n"
     ]
    }
   ],
   "source": [
    "for i in range(0, len(your_number)-1):\n",
    "    min = i\n",
    "    for j in range(i+1, len(your_number)):\n",
    "        if(your_number[min] > your_number[j]):\n",
    "            min = j\n",
    "    \n",
    "    if (min != i):\n",
    "        buf = your_number[min]\n",
    "        your_number[min] = your_number[i]\n",
    "        your_number[i] = buf\n",
    "        # list[min_indx], list[i] = list[i], list[min_indx]\n",
    "    print(\"Step\", i + 1, \": \", your_number)\n",
    "        "
   ]
  },
  {
   "cell_type": "code",
   "execution_count": null,
   "metadata": {
    "collapsed": true
   },
   "outputs": [],
   "source": []
  }
 ],
 "metadata": {
  "kernelspec": {
   "display_name": "Python 3",
   "language": "python",
   "name": "python3"
  },
  "language_info": {
   "codemirror_mode": {
    "name": "ipython",
    "version": 3
   },
   "file_extension": ".py",
   "mimetype": "text/x-python",
   "name": "python",
   "nbconvert_exporter": "python",
   "pygments_lexer": "ipython3",
   "version": "3.6.1"
  }
 },
 "nbformat": 4,
 "nbformat_minor": 2
}

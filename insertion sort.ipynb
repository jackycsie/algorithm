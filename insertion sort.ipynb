{
 "cells": [
  {
   "cell_type": "markdown",
   "metadata": {},
   "source": [
    "# "
   ]
  },
  {
   "cell_type": "code",
   "execution_count": 45,
   "metadata": {
    "ExecuteTime": {
     "end_time": "2018-12-23T15:22:16.598853Z",
     "start_time": "2018-12-23T15:22:06.969191Z"
    }
   },
   "outputs": [
    {
     "name": "stdout",
     "output_type": "stream",
     "text": [
      "你的數字要用\",\"隔開43,12,21,35,33,2,1\n"
     ]
    },
    {
     "data": {
      "text/plain": [
       "['43', '12', '21', '35', '33', '2', '1']"
      ]
     },
     "execution_count": 45,
     "metadata": {},
     "output_type": "execute_result"
    }
   ],
   "source": [
    "your_number = input(\"你的數字要用\\\",\\\"隔開\")\n",
    "your_number = your_number.split(\",\")\n",
    "your_number"
   ]
  },
  {
   "cell_type": "code",
   "execution_count": 46,
   "metadata": {
    "ExecuteTime": {
     "end_time": "2018-12-23T15:22:19.285521Z",
     "start_time": "2018-12-23T15:22:19.258402Z"
    }
   },
   "outputs": [
    {
     "name": "stdout",
     "output_type": "stream",
     "text": [
      "12\n",
      "-1 :  43 :  1\n",
      "step 1 :  ['12', '43', '21', '35', '33', '2', '1']\n",
      "21\n",
      "0 :  43 :  12\n",
      "step 2 :  ['12', '21', '43', '35', '33', '2', '1']\n",
      "35\n",
      "1 :  43 :  21\n",
      "step 3 :  ['12', '21', '35', '43', '33', '2', '1']\n",
      "33\n",
      "2 :  43 :  35\n",
      "1 :  35 :  21\n",
      "step 4 :  ['12', '21', '33', '35', '43', '2', '1']\n",
      "2\n",
      "3 :  43 :  35\n",
      "2 :  35 :  33\n",
      "1 :  33 :  21\n",
      "0 :  21 :  12\n",
      "step 5 :  ['12', '2', '21', '33', '35', '43', '1']\n",
      "1\n",
      "4 :  43 :  35\n",
      "3 :  35 :  33\n",
      "2 :  33 :  21\n",
      "1 :  21 :  2\n",
      "0 :  2 :  12\n",
      "-1 :  12 :  43\n",
      "step 6 :  ['1', '12', '2', '21', '33', '35', '43']\n"
     ]
    }
   ],
   "source": [
    "for i in range(1, len(your_number)):\n",
    "    buf = your_number[i]\n",
    "    print(buf)\n",
    "    j = i - 1\n",
    "    while j >= 0 and buf < your_number[j]:\n",
    "        your_number[j + 1] = your_number[j] #往右shift\n",
    "        j = j - 1\n",
    "        print(j, \": \", your_number[j + 1], \": \", your_number[j])\n",
    "    your_number[ j + 1 ] = buf\n",
    "    print(\"step\", i, \": \", your_number)"
   ]
  },
  {
   "cell_type": "code",
   "execution_count": null,
   "metadata": {
    "collapsed": true
   },
   "outputs": [],
   "source": []
  }
 ],
 "metadata": {
  "kernelspec": {
   "display_name": "Python 3",
   "language": "python",
   "name": "python3"
  },
  "language_info": {
   "codemirror_mode": {
    "name": "ipython",
    "version": 3
   },
   "file_extension": ".py",
   "mimetype": "text/x-python",
   "name": "python",
   "nbconvert_exporter": "python",
   "pygments_lexer": "ipython3",
   "version": "3.6.1"
  }
 },
 "nbformat": 4,
 "nbformat_minor": 2
}

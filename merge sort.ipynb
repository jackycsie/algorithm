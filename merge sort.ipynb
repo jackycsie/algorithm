{
 "cells": [
  {
   "cell_type": "code",
   "execution_count": 1,
   "metadata": {
    "ExecuteTime": {
     "end_time": "2019-01-03T08:23:04.485495Z",
     "start_time": "2019-01-03T08:23:04.476040Z"
    }
   },
   "outputs": [],
   "source": [
    "def merge(left, right):\n",
    "    result = []\n",
    "    \n",
    "    print(left,\"now_state: \",right)\n",
    "    \n",
    "    while left and right:\n",
    "        if left[0] <= right[0]:\n",
    "            result.append(left.pop(0))\n",
    "            print(result,\"step 1: \")\n",
    "        else:\n",
    "            result.append(right.pop(0))\n",
    "            print(result,\"step 2: \")\n",
    "    if left:\n",
    "        result += left\n",
    "        print(result,\"step 3: \")\n",
    "    if right:\n",
    "        result += right\n",
    "        print(result,\"step 4: \")\n",
    "    return result"
   ]
  },
  {
   "cell_type": "code",
   "execution_count": 2,
   "metadata": {
    "ExecuteTime": {
     "end_time": "2019-01-03T08:23:05.410278Z",
     "start_time": "2019-01-03T08:23:05.403644Z"
    }
   },
   "outputs": [],
   "source": [
    "def merge_sort(L):\n",
    "    if len(L) <= 1:\n",
    "\n",
    "        return L\n",
    "    mid = len(L) // 2\n",
    "    left = L[:mid]\n",
    "    right = L[mid:]\n",
    "\n",
    "    print(left,\"split: \", right)\n",
    "    \n",
    "    left = merge_sort(left)\n",
    "    right = merge_sort(right)\n",
    "    print(left,\"input: \", right)\n",
    "\n",
    "    return merge(left, right)\n"
   ]
  },
  {
   "cell_type": "code",
   "execution_count": 3,
   "metadata": {
    "ExecuteTime": {
     "end_time": "2019-01-03T08:23:25.130062Z",
     "start_time": "2019-01-03T08:23:08.956980Z"
    }
   },
   "outputs": [
    {
     "name": "stdout",
     "output_type": "stream",
     "text": [
      "123,342,52,64,64,55,32,53,12,53\n",
      "['123', '342', '52', '64', '64'] split:  ['55', '32', '53', '12', '53']\n",
      "['123', '342'] split:  ['52', '64', '64']\n",
      "['123'] split:  ['342']\n",
      "['123'] input:  ['342']\n",
      "['123'] now_state:  ['342']\n",
      "['123'] step 1: \n",
      "['123', '342'] step 4: \n",
      "['52'] split:  ['64', '64']\n",
      "['64'] split:  ['64']\n",
      "['64'] input:  ['64']\n",
      "['64'] now_state:  ['64']\n",
      "['64'] step 1: \n",
      "['64', '64'] step 4: \n",
      "['52'] input:  ['64', '64']\n",
      "['52'] now_state:  ['64', '64']\n",
      "['52'] step 1: \n",
      "['52', '64', '64'] step 4: \n",
      "['123', '342'] input:  ['52', '64', '64']\n",
      "['123', '342'] now_state:  ['52', '64', '64']\n",
      "['123'] step 1: \n",
      "['123', '342'] step 1: \n",
      "['123', '342', '52', '64', '64'] step 4: \n",
      "['55', '32'] split:  ['53', '12', '53']\n",
      "['55'] split:  ['32']\n",
      "['55'] input:  ['32']\n",
      "['55'] now_state:  ['32']\n",
      "['32'] step 2: \n",
      "['32', '55'] step 3: \n",
      "['53'] split:  ['12', '53']\n",
      "['12'] split:  ['53']\n",
      "['12'] input:  ['53']\n",
      "['12'] now_state:  ['53']\n",
      "['12'] step 1: \n",
      "['12', '53'] step 4: \n",
      "['53'] input:  ['12', '53']\n",
      "['53'] now_state:  ['12', '53']\n",
      "['12'] step 2: \n",
      "['12', '53'] step 1: \n",
      "['12', '53', '53'] step 4: \n",
      "['32', '55'] input:  ['12', '53', '53']\n",
      "['32', '55'] now_state:  ['12', '53', '53']\n",
      "['12'] step 2: \n",
      "['12', '32'] step 1: \n",
      "['12', '32', '53'] step 2: \n",
      "['12', '32', '53', '53'] step 2: \n",
      "['12', '32', '53', '53', '55'] step 3: \n",
      "['123', '342', '52', '64', '64'] input:  ['12', '32', '53', '53', '55']\n",
      "['123', '342', '52', '64', '64'] now_state:  ['12', '32', '53', '53', '55']\n",
      "['12'] step 2: \n",
      "['12', '123'] step 1: \n",
      "['12', '123', '32'] step 2: \n",
      "['12', '123', '32', '342'] step 1: \n",
      "['12', '123', '32', '342', '52'] step 1: \n",
      "['12', '123', '32', '342', '52', '53'] step 2: \n",
      "['12', '123', '32', '342', '52', '53', '53'] step 2: \n",
      "['12', '123', '32', '342', '52', '53', '53', '55'] step 2: \n",
      "['12', '123', '32', '342', '52', '53', '53', '55', '64', '64'] step 3: \n"
     ]
    },
    {
     "data": {
      "text/plain": [
       "['12', '123', '32', '342', '52', '53', '53', '55', '64', '64']"
      ]
     },
     "execution_count": 3,
     "metadata": {},
     "output_type": "execute_result"
    }
   ],
   "source": [
    "your_number = input()\n",
    "split_number = your_number.split(',')\n",
    "merge_sort(split_number)"
   ]
  },
  {
   "cell_type": "code",
   "execution_count": null,
   "metadata": {},
   "outputs": [],
   "source": []
  }
 ],
 "metadata": {
  "kernelspec": {
   "display_name": "Python 3",
   "language": "python",
   "name": "python3"
  },
  "language_info": {
   "codemirror_mode": {
    "name": "ipython",
    "version": 3
   },
   "file_extension": ".py",
   "mimetype": "text/x-python",
   "name": "python",
   "nbconvert_exporter": "python",
   "pygments_lexer": "ipython3",
   "version": "3.5.2"
  }
 },
 "nbformat": 4,
 "nbformat_minor": 2
}

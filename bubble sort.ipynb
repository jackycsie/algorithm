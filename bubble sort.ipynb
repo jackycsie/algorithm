{
 "cells": [
  {
   "cell_type": "code",
   "execution_count": 49,
   "metadata": {
    "ExecuteTime": {
     "end_time": "2018-12-27T03:48:00.436707Z",
     "start_time": "2018-12-27T03:47:51.160094Z"
    }
   },
   "outputs": [
    {
     "name": "stdout",
     "output_type": "stream",
     "text": [
      "你的數字要用空格隔開3 44 1 24 53 0 1 2\n"
     ]
    },
    {
     "data": {
      "text/plain": [
       "[3, 44, 1, 24, 53, 0, 1, 2]"
      ]
     },
     "execution_count": 49,
     "metadata": {},
     "output_type": "execute_result"
    }
   ],
   "source": [
    "your_number = input(\"你的數字要用空格隔開\")\n",
    "your_number = your_number.split(\" \")\n",
    "int_number = [int(i) for i in your_number]\n",
    "int_number"
   ]
  },
  {
   "cell_type": "code",
   "execution_count": 50,
   "metadata": {
    "ExecuteTime": {
     "end_time": "2018-12-27T03:48:01.692645Z",
     "start_time": "2018-12-27T03:48:01.676509Z"
    }
   },
   "outputs": [
    {
     "name": "stdout",
     "output_type": "stream",
     "text": [
      "step :  0 [3, 1, 24, 44, 0, 1, 2, 53]\n",
      "step :  1 [1, 3, 24, 0, 1, 2, 44, 53]\n",
      "step :  2 [1, 3, 0, 1, 2, 24, 44, 53]\n",
      "step :  3 [1, 0, 1, 2, 3, 24, 44, 53]\n",
      "step :  4 [0, 1, 1, 2, 3, 24, 44, 53]\n"
     ]
    }
   ],
   "source": [
    "for i in range(0, len(int_number)-1):\n",
    "    count = 0\n",
    "    for j in range(0, len(int_number)-1-i):\n",
    "        if int_number[j] > int_number[j+1]:\n",
    "            count = count + 1\n",
    "            int_number[j], int_number[j+1] = int_number[j+1], int_number[j]\n",
    "            count = count + 1\n",
    "    if count == 0:\n",
    "        break\n",
    "    print(\"step : \", i, int_number)"
   ]
  },
  {
   "cell_type": "code",
   "execution_count": null,
   "metadata": {
    "collapsed": true
   },
   "outputs": [],
   "source": []
  }
 ],
 "metadata": {
  "kernelspec": {
   "display_name": "Python 3",
   "language": "python",
   "name": "python3"
  },
  "language_info": {
   "codemirror_mode": {
    "name": "ipython",
    "version": 3
   },
   "file_extension": ".py",
   "mimetype": "text/x-python",
   "name": "python",
   "nbconvert_exporter": "python",
   "pygments_lexer": "ipython3",
   "version": "3.6.1"
  }
 },
 "nbformat": 4,
 "nbformat_minor": 2
}
